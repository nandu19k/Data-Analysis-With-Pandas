{
  "nbformat": 4,
  "nbformat_minor": 0,
  "metadata": {
    "colab": {
      "name": "Pandas - Series.ipynb",
      "provenance": []
    },
    "kernelspec": {
      "name": "python3",
      "display_name": "Python 3"
    }
  },
  "cells": [
    {
      "cell_type": "markdown",
      "metadata": {
        "id": "FuO7erM32el2"
      },
      "source": [
        "Pandas is the most popular python library that is used for data analysis. It provides highly optimized performance with back-end source code is purely written in C or Python.\r\n",
        "\r\n",
        "We can analyze data in pandas with:\r\n",
        "\r\n",
        "- Series\r\n",
        "- DataFrames\r\n",
        "\r\n",
        "### Series:\r\n",
        "Series is one dimensional(1-D) array defined in pandas that can be used to store any data type.\r\n",
        "\r\n",
        "A Series is very similar to a NumPy array (in fact it is built on top of the NumPy array object). What differentiates the NumPy array from a Series, is that a Series can have axis labels, meaning it can be indexed by a label, instead of just a number location. It also doesn't need to hold numeric data, it can hold any arbitrary Python Object."
      ]
    },
    {
      "cell_type": "code",
      "metadata": {
        "id": "7mwWeT6E6xTZ"
      },
      "source": [
        "import numpy as np\r\n",
        "import pandas as pd"
      ],
      "execution_count": 1,
      "outputs": []
    },
    {
      "cell_type": "code",
      "metadata": {
        "id": "CJ6146sk64wj"
      },
      "source": [
        "my_list = [10 , 20 , 30 , 40]\r\n",
        "arr = np.array(my_list)"
      ],
      "execution_count": 2,
      "outputs": []
    },
    {
      "cell_type": "code",
      "metadata": {
        "colab": {
          "base_uri": "https://localhost:8080/"
        },
        "id": "iGbTArnS7MkH",
        "outputId": "64c9284d-23a2-43eb-9589-c5540321d9ec"
      },
      "source": [
        "arr"
      ],
      "execution_count": 3,
      "outputs": [
        {
          "output_type": "execute_result",
          "data": {
            "text/plain": [
              "array([10, 20, 30, 40])"
            ]
          },
          "metadata": {
            "tags": []
          },
          "execution_count": 3
        }
      ]
    },
    {
      "cell_type": "code",
      "metadata": {
        "colab": {
          "base_uri": "https://localhost:8080/"
        },
        "id": "I6bGKz6l7N9O",
        "outputId": "dc12d632-a8b5-4ddf-af00-1686c97c7a97"
      },
      "source": [
        "pd.Series(data=my_list)"
      ],
      "execution_count": 4,
      "outputs": [
        {
          "output_type": "execute_result",
          "data": {
            "text/plain": [
              "0    10\n",
              "1    20\n",
              "2    30\n",
              "3    40\n",
              "dtype: int64"
            ]
          },
          "metadata": {
            "tags": []
          },
          "execution_count": 4
        }
      ]
    },
    {
      "cell_type": "code",
      "metadata": {
        "colab": {
          "base_uri": "https://localhost:8080/"
        },
        "id": "hODuulB47Wln",
        "outputId": "ddaffbcf-0065-4eeb-cfd3-88017e2f2406"
      },
      "source": [
        "labels = ['a' , 'b' , 'c' , 'd']\r\n",
        "pd.Series(data = my_list , index=labels)"
      ],
      "execution_count": 5,
      "outputs": [
        {
          "output_type": "execute_result",
          "data": {
            "text/plain": [
              "a    10\n",
              "b    20\n",
              "c    30\n",
              "d    40\n",
              "dtype: int64"
            ]
          },
          "metadata": {
            "tags": []
          },
          "execution_count": 5
        }
      ]
    },
    {
      "cell_type": "code",
      "metadata": {
        "colab": {
          "base_uri": "https://localhost:8080/"
        },
        "id": "LY-KeaKN7toH",
        "outputId": "2cb5bb15-4f3e-4ca9-ea76-ae2dab44fd4c"
      },
      "source": [
        "#converting an array in to series\r\n",
        "\r\n",
        "pd.Series(arr , labels)"
      ],
      "execution_count": 6,
      "outputs": [
        {
          "output_type": "execute_result",
          "data": {
            "text/plain": [
              "a    10\n",
              "b    20\n",
              "c    30\n",
              "d    40\n",
              "dtype: int64"
            ]
          },
          "metadata": {
            "tags": []
          },
          "execution_count": 6
        }
      ]
    },
    {
      "cell_type": "code",
      "metadata": {
        "colab": {
          "base_uri": "https://localhost:8080/"
        },
        "id": "VDsrzt_C8GQQ",
        "outputId": "ab451478-a306-4301-ccd8-9a0597e842fd"
      },
      "source": [
        "#converting dictionary to series\r\n",
        "\r\n",
        "d = {'a':10 , 'b':20 , 'c':30 , 'd':40}\r\n",
        "pd.Series(data=d)"
      ],
      "execution_count": 7,
      "outputs": [
        {
          "output_type": "execute_result",
          "data": {
            "text/plain": [
              "a    10\n",
              "b    20\n",
              "c    30\n",
              "d    40\n",
              "dtype: int64"
            ]
          },
          "metadata": {
            "tags": []
          },
          "execution_count": 7
        }
      ]
    },
    {
      "cell_type": "code",
      "metadata": {
        "colab": {
          "base_uri": "https://localhost:8080/"
        },
        "id": "T1t9FHiP8gsz",
        "outputId": "209fb7b0-626b-4e3e-fb52-9312f0a04428"
      },
      "source": [
        "#Series can hold a variety of object types\r\n",
        "\r\n",
        "pd.Series(data=labels)"
      ],
      "execution_count": 8,
      "outputs": [
        {
          "output_type": "execute_result",
          "data": {
            "text/plain": [
              "0    a\n",
              "1    b\n",
              "2    c\n",
              "3    d\n",
              "dtype: object"
            ]
          },
          "metadata": {
            "tags": []
          },
          "execution_count": 8
        }
      ]
    },
    {
      "cell_type": "code",
      "metadata": {
        "id": "sl4ybdWfBVRw"
      },
      "source": [
        "ser1 = pd.Series([1 , 2, 3, 4] , index= ['nandu' , 'nani' , 'venky' , 'jaswanth'])\r\n",
        "ser2 = pd.Series([1 , 2 , 4 , 6] , index=['nani' , 'chakri' , 'nandu' , 'venky'])"
      ],
      "execution_count": 9,
      "outputs": []
    },
    {
      "cell_type": "code",
      "metadata": {
        "colab": {
          "base_uri": "https://localhost:8080/"
        },
        "id": "UTklNLziBopO",
        "outputId": "971ab891-9fa8-4df0-f07e-ae2f877c44bc"
      },
      "source": [
        "ser1\r\n"
      ],
      "execution_count": 10,
      "outputs": [
        {
          "output_type": "execute_result",
          "data": {
            "text/plain": [
              "nandu       1\n",
              "nani        2\n",
              "venky       3\n",
              "jaswanth    4\n",
              "dtype: int64"
            ]
          },
          "metadata": {
            "tags": []
          },
          "execution_count": 10
        }
      ]
    },
    {
      "cell_type": "code",
      "metadata": {
        "colab": {
          "base_uri": "https://localhost:8080/"
        },
        "id": "IarGpZYIBq9m",
        "outputId": "70891b51-16a3-42e8-f5f6-92226612682d"
      },
      "source": [
        "ser2"
      ],
      "execution_count": 11,
      "outputs": [
        {
          "output_type": "execute_result",
          "data": {
            "text/plain": [
              "nani      1\n",
              "chakri    2\n",
              "nandu     4\n",
              "venky     6\n",
              "dtype: int64"
            ]
          },
          "metadata": {
            "tags": []
          },
          "execution_count": 11
        }
      ]
    },
    {
      "cell_type": "code",
      "metadata": {
        "colab": {
          "base_uri": "https://localhost:8080/"
        },
        "id": "oF5oDOvvBwgn",
        "outputId": "6f7a0aff-6c22-499b-fbc1-eab5723e2088"
      },
      "source": [
        "ser1['nandu']"
      ],
      "execution_count": 12,
      "outputs": [
        {
          "output_type": "execute_result",
          "data": {
            "text/plain": [
              "1"
            ]
          },
          "metadata": {
            "tags": []
          },
          "execution_count": 12
        }
      ]
    },
    {
      "cell_type": "code",
      "metadata": {
        "colab": {
          "base_uri": "https://localhost:8080/"
        },
        "id": "bK0BxJ0RB0NX",
        "outputId": "f40302a7-29d8-49fc-c73c-1fbc068a2188"
      },
      "source": [
        "ser2['nandu']"
      ],
      "execution_count": 13,
      "outputs": [
        {
          "output_type": "execute_result",
          "data": {
            "text/plain": [
              "4"
            ]
          },
          "metadata": {
            "tags": []
          },
          "execution_count": 13
        }
      ]
    },
    {
      "cell_type": "code",
      "metadata": {
        "colab": {
          "base_uri": "https://localhost:8080/"
        },
        "id": "-e3lgFiqB94g",
        "outputId": "cae91f03-ff8a-4546-fab9-deb8c09043d2"
      },
      "source": [
        "ser1.values"
      ],
      "execution_count": 14,
      "outputs": [
        {
          "output_type": "execute_result",
          "data": {
            "text/plain": [
              "array([1, 2, 3, 4])"
            ]
          },
          "metadata": {
            "tags": []
          },
          "execution_count": 14
        }
      ]
    },
    {
      "cell_type": "code",
      "metadata": {
        "colab": {
          "base_uri": "https://localhost:8080/"
        },
        "id": "hogZtio2CB_9",
        "outputId": "b3bd4452-1c49-4d04-999a-74b2143d608e"
      },
      "source": [
        "ser2.values"
      ],
      "execution_count": 15,
      "outputs": [
        {
          "output_type": "execute_result",
          "data": {
            "text/plain": [
              "array([1, 2, 4, 6])"
            ]
          },
          "metadata": {
            "tags": []
          },
          "execution_count": 15
        }
      ]
    },
    {
      "cell_type": "code",
      "metadata": {
        "colab": {
          "base_uri": "https://localhost:8080/"
        },
        "id": "jqoc5mDTCEI8",
        "outputId": "dc4e6bc1-0538-4fa4-bef2-3176f0f0559c"
      },
      "source": [
        "ser1 + ser2 #common index values are added"
      ],
      "execution_count": 16,
      "outputs": [
        {
          "output_type": "execute_result",
          "data": {
            "text/plain": [
              "chakri      NaN\n",
              "jaswanth    NaN\n",
              "nandu       5.0\n",
              "nani        3.0\n",
              "venky       9.0\n",
              "dtype: float64"
            ]
          },
          "metadata": {
            "tags": []
          },
          "execution_count": 16
        }
      ]
    }
  ]
}