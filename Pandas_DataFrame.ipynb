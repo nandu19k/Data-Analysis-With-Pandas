{
  "nbformat": 4,
  "nbformat_minor": 0,
  "metadata": {
    "colab": {
      "name": "Pandas - DataFrame.ipynb",
      "provenance": []
    },
    "kernelspec": {
      "name": "python3",
      "display_name": "Python 3"
    }
  },
  "cells": [
    {
      "cell_type": "markdown",
      "metadata": {
        "id": "97FMxql6Fp__"
      },
      "source": [
        "![image.png](data:image/png;base64,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)"
      ]
    },
    {
      "cell_type": "markdown",
      "metadata": {
        "id": "OQmyobKHFg8z"
      },
      "source": [
        "\r\n",
        "\r\n",
        " We can think of a DataFrame as a bunch of Series objects put together to share the same index."
      ]
    },
    {
      "cell_type": "markdown",
      "metadata": {
        "id": "QTz525ZiF2hi"
      },
      "source": [
        "**How to install?**\r\n",
        "\r\n",
        "pip install pandas"
      ]
    },
    {
      "cell_type": "code",
      "metadata": {
        "id": "9qufDgn8F6s6"
      },
      "source": [
        "import numpy as np\r\n",
        "import pandas as pd"
      ],
      "execution_count": 1,
      "outputs": []
    },
    {
      "cell_type": "code",
      "metadata": {
        "id": "DSe9xYldHThM"
      },
      "source": [
        "#Creating the dataframe from dictionaries\r\n",
        "\r\n",
        "dict1 = {'state':['Andra Pradesh' , 'Telangane'] , 'year':[2020 , 2021]}\r\n",
        "\r\n",
        "df = pd.DataFrame(dict1)"
      ],
      "execution_count": 2,
      "outputs": []
    },
    {
      "cell_type": "code",
      "metadata": {
        "colab": {
          "base_uri": "https://localhost:8080/",
          "height": 108
        },
        "id": "d0wiumAxHl9V",
        "outputId": "5469d269-794f-451b-ca2c-a03e19d6ac19"
      },
      "source": [
        "df"
      ],
      "execution_count": 3,
      "outputs": [
        {
          "output_type": "execute_result",
          "data": {
            "text/html": [
              "<div>\n",
              "<style scoped>\n",
              "    .dataframe tbody tr th:only-of-type {\n",
              "        vertical-align: middle;\n",
              "    }\n",
              "\n",
              "    .dataframe tbody tr th {\n",
              "        vertical-align: top;\n",
              "    }\n",
              "\n",
              "    .dataframe thead th {\n",
              "        text-align: right;\n",
              "    }\n",
              "</style>\n",
              "<table border=\"1\" class=\"dataframe\">\n",
              "  <thead>\n",
              "    <tr style=\"text-align: right;\">\n",
              "      <th></th>\n",
              "      <th>state</th>\n",
              "      <th>year</th>\n",
              "    </tr>\n",
              "  </thead>\n",
              "  <tbody>\n",
              "    <tr>\n",
              "      <th>0</th>\n",
              "      <td>Andra Pradesh</td>\n",
              "      <td>2020</td>\n",
              "    </tr>\n",
              "    <tr>\n",
              "      <th>1</th>\n",
              "      <td>Telangane</td>\n",
              "      <td>2021</td>\n",
              "    </tr>\n",
              "  </tbody>\n",
              "</table>\n",
              "</div>"
            ],
            "text/plain": [
              "           state  year\n",
              "0  Andra Pradesh  2020\n",
              "1      Telangane  2021"
            ]
          },
          "metadata": {
            "tags": []
          },
          "execution_count": 3
        }
      ]
    },
    {
      "cell_type": "code",
      "metadata": {
        "colab": {
          "base_uri": "https://localhost:8080/",
          "height": 108
        },
        "id": "-lOkx5tYILrQ",
        "outputId": "8573ab97-5300-4d7f-a0d7-586f653f7821"
      },
      "source": [
        "df = pd.DataFrame(dict1 , index = ['row1' , 'row2'])\r\n",
        "df"
      ],
      "execution_count": 4,
      "outputs": [
        {
          "output_type": "execute_result",
          "data": {
            "text/html": [
              "<div>\n",
              "<style scoped>\n",
              "    .dataframe tbody tr th:only-of-type {\n",
              "        vertical-align: middle;\n",
              "    }\n",
              "\n",
              "    .dataframe tbody tr th {\n",
              "        vertical-align: top;\n",
              "    }\n",
              "\n",
              "    .dataframe thead th {\n",
              "        text-align: right;\n",
              "    }\n",
              "</style>\n",
              "<table border=\"1\" class=\"dataframe\">\n",
              "  <thead>\n",
              "    <tr style=\"text-align: right;\">\n",
              "      <th></th>\n",
              "      <th>state</th>\n",
              "      <th>year</th>\n",
              "    </tr>\n",
              "  </thead>\n",
              "  <tbody>\n",
              "    <tr>\n",
              "      <th>row1</th>\n",
              "      <td>Andra Pradesh</td>\n",
              "      <td>2020</td>\n",
              "    </tr>\n",
              "    <tr>\n",
              "      <th>row2</th>\n",
              "      <td>Telangane</td>\n",
              "      <td>2021</td>\n",
              "    </tr>\n",
              "  </tbody>\n",
              "</table>\n",
              "</div>"
            ],
            "text/plain": [
              "              state  year\n",
              "row1  Andra Pradesh  2020\n",
              "row2      Telangane  2021"
            ]
          },
          "metadata": {
            "tags": []
          },
          "execution_count": 4
        }
      ]
    },
    {
      "cell_type": "code",
      "metadata": {
        "id": "nmIvjE11I1u5"
      },
      "source": [
        "np.random.seed(10)\r\n",
        "df2 = pd.DataFrame(np.random.randn(5,5))\r\n"
      ],
      "execution_count": 5,
      "outputs": []
    },
    {
      "cell_type": "code",
      "metadata": {
        "colab": {
          "base_uri": "https://localhost:8080/",
          "height": 198
        },
        "id": "SUBE_PCKI7_x",
        "outputId": "91125ecb-d943-4aae-b4f9-e5adb6ff9e64"
      },
      "source": [
        "df2"
      ],
      "execution_count": 6,
      "outputs": [
        {
          "output_type": "execute_result",
          "data": {
            "text/html": [
              "<div>\n",
              "<style scoped>\n",
              "    .dataframe tbody tr th:only-of-type {\n",
              "        vertical-align: middle;\n",
              "    }\n",
              "\n",
              "    .dataframe tbody tr th {\n",
              "        vertical-align: top;\n",
              "    }\n",
              "\n",
              "    .dataframe thead th {\n",
              "        text-align: right;\n",
              "    }\n",
              "</style>\n",
              "<table border=\"1\" class=\"dataframe\">\n",
              "  <thead>\n",
              "    <tr style=\"text-align: right;\">\n",
              "      <th></th>\n",
              "      <th>0</th>\n",
              "      <th>1</th>\n",
              "      <th>2</th>\n",
              "      <th>3</th>\n",
              "      <th>4</th>\n",
              "    </tr>\n",
              "  </thead>\n",
              "  <tbody>\n",
              "    <tr>\n",
              "      <th>0</th>\n",
              "      <td>1.331587</td>\n",
              "      <td>0.715279</td>\n",
              "      <td>-1.545400</td>\n",
              "      <td>-0.008384</td>\n",
              "      <td>0.621336</td>\n",
              "    </tr>\n",
              "    <tr>\n",
              "      <th>1</th>\n",
              "      <td>-0.720086</td>\n",
              "      <td>0.265512</td>\n",
              "      <td>0.108549</td>\n",
              "      <td>0.004291</td>\n",
              "      <td>-0.174600</td>\n",
              "    </tr>\n",
              "    <tr>\n",
              "      <th>2</th>\n",
              "      <td>0.433026</td>\n",
              "      <td>1.203037</td>\n",
              "      <td>-0.965066</td>\n",
              "      <td>1.028274</td>\n",
              "      <td>0.228630</td>\n",
              "    </tr>\n",
              "    <tr>\n",
              "      <th>3</th>\n",
              "      <td>0.445138</td>\n",
              "      <td>-1.136602</td>\n",
              "      <td>0.135137</td>\n",
              "      <td>1.484537</td>\n",
              "      <td>-1.079805</td>\n",
              "    </tr>\n",
              "    <tr>\n",
              "      <th>4</th>\n",
              "      <td>-1.977728</td>\n",
              "      <td>-1.743372</td>\n",
              "      <td>0.266070</td>\n",
              "      <td>2.384967</td>\n",
              "      <td>1.123691</td>\n",
              "    </tr>\n",
              "  </tbody>\n",
              "</table>\n",
              "</div>"
            ],
            "text/plain": [
              "          0         1         2         3         4\n",
              "0  1.331587  0.715279 -1.545400 -0.008384  0.621336\n",
              "1 -0.720086  0.265512  0.108549  0.004291 -0.174600\n",
              "2  0.433026  1.203037 -0.965066  1.028274  0.228630\n",
              "3  0.445138 -1.136602  0.135137  1.484537 -1.079805\n",
              "4 -1.977728 -1.743372  0.266070  2.384967  1.123691"
            ]
          },
          "metadata": {
            "tags": []
          },
          "execution_count": 6
        }
      ]
    },
    {
      "cell_type": "code",
      "metadata": {
        "colab": {
          "base_uri": "https://localhost:8080/",
          "height": 198
        },
        "id": "VdbFysIYI_N7",
        "outputId": "9215174f-aaba-4da1-aece-f6442f758047"
      },
      "source": [
        "np.random.seed(10)\r\n",
        "df2 = pd.DataFrame(np.random.randn(5,5) , index = ['row1' , 'row2' , 'row3' , 'row4' , 'row5'] , columns=['col1' , 'col2' , 'col3' , 'col4' , 'col5'])\r\n",
        "df2"
      ],
      "execution_count": 7,
      "outputs": [
        {
          "output_type": "execute_result",
          "data": {
            "text/html": [
              "<div>\n",
              "<style scoped>\n",
              "    .dataframe tbody tr th:only-of-type {\n",
              "        vertical-align: middle;\n",
              "    }\n",
              "\n",
              "    .dataframe tbody tr th {\n",
              "        vertical-align: top;\n",
              "    }\n",
              "\n",
              "    .dataframe thead th {\n",
              "        text-align: right;\n",
              "    }\n",
              "</style>\n",
              "<table border=\"1\" class=\"dataframe\">\n",
              "  <thead>\n",
              "    <tr style=\"text-align: right;\">\n",
              "      <th></th>\n",
              "      <th>col1</th>\n",
              "      <th>col2</th>\n",
              "      <th>col3</th>\n",
              "      <th>col4</th>\n",
              "      <th>col5</th>\n",
              "    </tr>\n",
              "  </thead>\n",
              "  <tbody>\n",
              "    <tr>\n",
              "      <th>row1</th>\n",
              "      <td>1.331587</td>\n",
              "      <td>0.715279</td>\n",
              "      <td>-1.545400</td>\n",
              "      <td>-0.008384</td>\n",
              "      <td>0.621336</td>\n",
              "    </tr>\n",
              "    <tr>\n",
              "      <th>row2</th>\n",
              "      <td>-0.720086</td>\n",
              "      <td>0.265512</td>\n",
              "      <td>0.108549</td>\n",
              "      <td>0.004291</td>\n",
              "      <td>-0.174600</td>\n",
              "    </tr>\n",
              "    <tr>\n",
              "      <th>row3</th>\n",
              "      <td>0.433026</td>\n",
              "      <td>1.203037</td>\n",
              "      <td>-0.965066</td>\n",
              "      <td>1.028274</td>\n",
              "      <td>0.228630</td>\n",
              "    </tr>\n",
              "    <tr>\n",
              "      <th>row4</th>\n",
              "      <td>0.445138</td>\n",
              "      <td>-1.136602</td>\n",
              "      <td>0.135137</td>\n",
              "      <td>1.484537</td>\n",
              "      <td>-1.079805</td>\n",
              "    </tr>\n",
              "    <tr>\n",
              "      <th>row5</th>\n",
              "      <td>-1.977728</td>\n",
              "      <td>-1.743372</td>\n",
              "      <td>0.266070</td>\n",
              "      <td>2.384967</td>\n",
              "      <td>1.123691</td>\n",
              "    </tr>\n",
              "  </tbody>\n",
              "</table>\n",
              "</div>"
            ],
            "text/plain": [
              "          col1      col2      col3      col4      col5\n",
              "row1  1.331587  0.715279 -1.545400 -0.008384  0.621336\n",
              "row2 -0.720086  0.265512  0.108549  0.004291 -0.174600\n",
              "row3  0.433026  1.203037 -0.965066  1.028274  0.228630\n",
              "row4  0.445138 -1.136602  0.135137  1.484537 -1.079805\n",
              "row5 -1.977728 -1.743372  0.266070  2.384967  1.123691"
            ]
          },
          "metadata": {
            "tags": []
          },
          "execution_count": 7
        }
      ]
    },
    {
      "cell_type": "code",
      "metadata": {
        "colab": {
          "base_uri": "https://localhost:8080/",
          "height": 198
        },
        "id": "a923-_1dJmCZ",
        "outputId": "62c14fd0-c732-4031-b3fe-54892662b980"
      },
      "source": [
        "df2"
      ],
      "execution_count": 8,
      "outputs": [
        {
          "output_type": "execute_result",
          "data": {
            "text/html": [
              "<div>\n",
              "<style scoped>\n",
              "    .dataframe tbody tr th:only-of-type {\n",
              "        vertical-align: middle;\n",
              "    }\n",
              "\n",
              "    .dataframe tbody tr th {\n",
              "        vertical-align: top;\n",
              "    }\n",
              "\n",
              "    .dataframe thead th {\n",
              "        text-align: right;\n",
              "    }\n",
              "</style>\n",
              "<table border=\"1\" class=\"dataframe\">\n",
              "  <thead>\n",
              "    <tr style=\"text-align: right;\">\n",
              "      <th></th>\n",
              "      <th>col1</th>\n",
              "      <th>col2</th>\n",
              "      <th>col3</th>\n",
              "      <th>col4</th>\n",
              "      <th>col5</th>\n",
              "    </tr>\n",
              "  </thead>\n",
              "  <tbody>\n",
              "    <tr>\n",
              "      <th>row1</th>\n",
              "      <td>1.331587</td>\n",
              "      <td>0.715279</td>\n",
              "      <td>-1.545400</td>\n",
              "      <td>-0.008384</td>\n",
              "      <td>0.621336</td>\n",
              "    </tr>\n",
              "    <tr>\n",
              "      <th>row2</th>\n",
              "      <td>-0.720086</td>\n",
              "      <td>0.265512</td>\n",
              "      <td>0.108549</td>\n",
              "      <td>0.004291</td>\n",
              "      <td>-0.174600</td>\n",
              "    </tr>\n",
              "    <tr>\n",
              "      <th>row3</th>\n",
              "      <td>0.433026</td>\n",
              "      <td>1.203037</td>\n",
              "      <td>-0.965066</td>\n",
              "      <td>1.028274</td>\n",
              "      <td>0.228630</td>\n",
              "    </tr>\n",
              "    <tr>\n",
              "      <th>row4</th>\n",
              "      <td>0.445138</td>\n",
              "      <td>-1.136602</td>\n",
              "      <td>0.135137</td>\n",
              "      <td>1.484537</td>\n",
              "      <td>-1.079805</td>\n",
              "    </tr>\n",
              "    <tr>\n",
              "      <th>row5</th>\n",
              "      <td>-1.977728</td>\n",
              "      <td>-1.743372</td>\n",
              "      <td>0.266070</td>\n",
              "      <td>2.384967</td>\n",
              "      <td>1.123691</td>\n",
              "    </tr>\n",
              "  </tbody>\n",
              "</table>\n",
              "</div>"
            ],
            "text/plain": [
              "          col1      col2      col3      col4      col5\n",
              "row1  1.331587  0.715279 -1.545400 -0.008384  0.621336\n",
              "row2 -0.720086  0.265512  0.108549  0.004291 -0.174600\n",
              "row3  0.433026  1.203037 -0.965066  1.028274  0.228630\n",
              "row4  0.445138 -1.136602  0.135137  1.484537 -1.079805\n",
              "row5 -1.977728 -1.743372  0.266070  2.384967  1.123691"
            ]
          },
          "metadata": {
            "tags": []
          },
          "execution_count": 8
        }
      ]
    },
    {
      "cell_type": "code",
      "metadata": {
        "colab": {
          "base_uri": "https://localhost:8080/"
        },
        "id": "iW-9n0g-JsLW",
        "outputId": "3859a7a1-5d98-4546-8d6c-91b1d6fc1a87"
      },
      "source": [
        "df2['col1']"
      ],
      "execution_count": 9,
      "outputs": [
        {
          "output_type": "execute_result",
          "data": {
            "text/plain": [
              "row1    1.331587\n",
              "row2   -0.720086\n",
              "row3    0.433026\n",
              "row4    0.445138\n",
              "row5   -1.977728\n",
              "Name: col1, dtype: float64"
            ]
          },
          "metadata": {
            "tags": []
          },
          "execution_count": 9
        }
      ]
    },
    {
      "cell_type": "code",
      "metadata": {
        "colab": {
          "base_uri": "https://localhost:8080/"
        },
        "id": "5SMh4k9pJxJb",
        "outputId": "b640c187-4d48-4fd6-e08c-092833490d60"
      },
      "source": [
        "df2['col4']"
      ],
      "execution_count": 10,
      "outputs": [
        {
          "output_type": "execute_result",
          "data": {
            "text/plain": [
              "row1   -0.008384\n",
              "row2    0.004291\n",
              "row3    1.028274\n",
              "row4    1.484537\n",
              "row5    2.384967\n",
              "Name: col4, dtype: float64"
            ]
          },
          "metadata": {
            "tags": []
          },
          "execution_count": 10
        }
      ]
    },
    {
      "cell_type": "code",
      "metadata": {
        "colab": {
          "base_uri": "https://localhost:8080/",
          "height": 198
        },
        "id": "S0G7s4m_KCNx",
        "outputId": "dbcee1b0-0b23-4dce-e2a5-12cbaa43cb41"
      },
      "source": [
        "df2[['col1' , 'col2']]"
      ],
      "execution_count": 11,
      "outputs": [
        {
          "output_type": "execute_result",
          "data": {
            "text/html": [
              "<div>\n",
              "<style scoped>\n",
              "    .dataframe tbody tr th:only-of-type {\n",
              "        vertical-align: middle;\n",
              "    }\n",
              "\n",
              "    .dataframe tbody tr th {\n",
              "        vertical-align: top;\n",
              "    }\n",
              "\n",
              "    .dataframe thead th {\n",
              "        text-align: right;\n",
              "    }\n",
              "</style>\n",
              "<table border=\"1\" class=\"dataframe\">\n",
              "  <thead>\n",
              "    <tr style=\"text-align: right;\">\n",
              "      <th></th>\n",
              "      <th>col1</th>\n",
              "      <th>col2</th>\n",
              "    </tr>\n",
              "  </thead>\n",
              "  <tbody>\n",
              "    <tr>\n",
              "      <th>row1</th>\n",
              "      <td>1.331587</td>\n",
              "      <td>0.715279</td>\n",
              "    </tr>\n",
              "    <tr>\n",
              "      <th>row2</th>\n",
              "      <td>-0.720086</td>\n",
              "      <td>0.265512</td>\n",
              "    </tr>\n",
              "    <tr>\n",
              "      <th>row3</th>\n",
              "      <td>0.433026</td>\n",
              "      <td>1.203037</td>\n",
              "    </tr>\n",
              "    <tr>\n",
              "      <th>row4</th>\n",
              "      <td>0.445138</td>\n",
              "      <td>-1.136602</td>\n",
              "    </tr>\n",
              "    <tr>\n",
              "      <th>row5</th>\n",
              "      <td>-1.977728</td>\n",
              "      <td>-1.743372</td>\n",
              "    </tr>\n",
              "  </tbody>\n",
              "</table>\n",
              "</div>"
            ],
            "text/plain": [
              "          col1      col2\n",
              "row1  1.331587  0.715279\n",
              "row2 -0.720086  0.265512\n",
              "row3  0.433026  1.203037\n",
              "row4  0.445138 -1.136602\n",
              "row5 -1.977728 -1.743372"
            ]
          },
          "metadata": {
            "tags": []
          },
          "execution_count": 11
        }
      ]
    },
    {
      "cell_type": "code",
      "metadata": {
        "id": "rcILtd3FKppu"
      },
      "source": [
        "#creating a new column\r\n",
        "\r\n",
        "df2['new'] = df2['col1'] + df2['col2']"
      ],
      "execution_count": 12,
      "outputs": []
    },
    {
      "cell_type": "code",
      "metadata": {
        "colab": {
          "base_uri": "https://localhost:8080/",
          "height": 198
        },
        "id": "8sFItCOCKvuo",
        "outputId": "5c9382fd-07df-48f7-db72-315efd979426"
      },
      "source": [
        "df2"
      ],
      "execution_count": 13,
      "outputs": [
        {
          "output_type": "execute_result",
          "data": {
            "text/html": [
              "<div>\n",
              "<style scoped>\n",
              "    .dataframe tbody tr th:only-of-type {\n",
              "        vertical-align: middle;\n",
              "    }\n",
              "\n",
              "    .dataframe tbody tr th {\n",
              "        vertical-align: top;\n",
              "    }\n",
              "\n",
              "    .dataframe thead th {\n",
              "        text-align: right;\n",
              "    }\n",
              "</style>\n",
              "<table border=\"1\" class=\"dataframe\">\n",
              "  <thead>\n",
              "    <tr style=\"text-align: right;\">\n",
              "      <th></th>\n",
              "      <th>col1</th>\n",
              "      <th>col2</th>\n",
              "      <th>col3</th>\n",
              "      <th>col4</th>\n",
              "      <th>col5</th>\n",
              "      <th>new</th>\n",
              "    </tr>\n",
              "  </thead>\n",
              "  <tbody>\n",
              "    <tr>\n",
              "      <th>row1</th>\n",
              "      <td>1.331587</td>\n",
              "      <td>0.715279</td>\n",
              "      <td>-1.545400</td>\n",
              "      <td>-0.008384</td>\n",
              "      <td>0.621336</td>\n",
              "      <td>2.046865</td>\n",
              "    </tr>\n",
              "    <tr>\n",
              "      <th>row2</th>\n",
              "      <td>-0.720086</td>\n",
              "      <td>0.265512</td>\n",
              "      <td>0.108549</td>\n",
              "      <td>0.004291</td>\n",
              "      <td>-0.174600</td>\n",
              "      <td>-0.454574</td>\n",
              "    </tr>\n",
              "    <tr>\n",
              "      <th>row3</th>\n",
              "      <td>0.433026</td>\n",
              "      <td>1.203037</td>\n",
              "      <td>-0.965066</td>\n",
              "      <td>1.028274</td>\n",
              "      <td>0.228630</td>\n",
              "      <td>1.636064</td>\n",
              "    </tr>\n",
              "    <tr>\n",
              "      <th>row4</th>\n",
              "      <td>0.445138</td>\n",
              "      <td>-1.136602</td>\n",
              "      <td>0.135137</td>\n",
              "      <td>1.484537</td>\n",
              "      <td>-1.079805</td>\n",
              "      <td>-0.691465</td>\n",
              "    </tr>\n",
              "    <tr>\n",
              "      <th>row5</th>\n",
              "      <td>-1.977728</td>\n",
              "      <td>-1.743372</td>\n",
              "      <td>0.266070</td>\n",
              "      <td>2.384967</td>\n",
              "      <td>1.123691</td>\n",
              "      <td>-3.721101</td>\n",
              "    </tr>\n",
              "  </tbody>\n",
              "</table>\n",
              "</div>"
            ],
            "text/plain": [
              "          col1      col2      col3      col4      col5       new\n",
              "row1  1.331587  0.715279 -1.545400 -0.008384  0.621336  2.046865\n",
              "row2 -0.720086  0.265512  0.108549  0.004291 -0.174600 -0.454574\n",
              "row3  0.433026  1.203037 -0.965066  1.028274  0.228630  1.636064\n",
              "row4  0.445138 -1.136602  0.135137  1.484537 -1.079805 -0.691465\n",
              "row5 -1.977728 -1.743372  0.266070  2.384967  1.123691 -3.721101"
            ]
          },
          "metadata": {
            "tags": []
          },
          "execution_count": 13
        }
      ]
    },
    {
      "cell_type": "markdown",
      "metadata": {
        "id": "REiTnMc-K7P3"
      },
      "source": [
        "**Removing Columns**"
      ]
    },
    {
      "cell_type": "code",
      "metadata": {
        "colab": {
          "base_uri": "https://localhost:8080/",
          "height": 198
        },
        "id": "EBNdcld3LacX",
        "outputId": "b247fc39-c50f-4d85-d147-fea45998bc7d"
      },
      "source": [
        "df2.drop('new' , axis = 1) #not inplace"
      ],
      "execution_count": 14,
      "outputs": [
        {
          "output_type": "execute_result",
          "data": {
            "text/html": [
              "<div>\n",
              "<style scoped>\n",
              "    .dataframe tbody tr th:only-of-type {\n",
              "        vertical-align: middle;\n",
              "    }\n",
              "\n",
              "    .dataframe tbody tr th {\n",
              "        vertical-align: top;\n",
              "    }\n",
              "\n",
              "    .dataframe thead th {\n",
              "        text-align: right;\n",
              "    }\n",
              "</style>\n",
              "<table border=\"1\" class=\"dataframe\">\n",
              "  <thead>\n",
              "    <tr style=\"text-align: right;\">\n",
              "      <th></th>\n",
              "      <th>col1</th>\n",
              "      <th>col2</th>\n",
              "      <th>col3</th>\n",
              "      <th>col4</th>\n",
              "      <th>col5</th>\n",
              "    </tr>\n",
              "  </thead>\n",
              "  <tbody>\n",
              "    <tr>\n",
              "      <th>row1</th>\n",
              "      <td>1.331587</td>\n",
              "      <td>0.715279</td>\n",
              "      <td>-1.545400</td>\n",
              "      <td>-0.008384</td>\n",
              "      <td>0.621336</td>\n",
              "    </tr>\n",
              "    <tr>\n",
              "      <th>row2</th>\n",
              "      <td>-0.720086</td>\n",
              "      <td>0.265512</td>\n",
              "      <td>0.108549</td>\n",
              "      <td>0.004291</td>\n",
              "      <td>-0.174600</td>\n",
              "    </tr>\n",
              "    <tr>\n",
              "      <th>row3</th>\n",
              "      <td>0.433026</td>\n",
              "      <td>1.203037</td>\n",
              "      <td>-0.965066</td>\n",
              "      <td>1.028274</td>\n",
              "      <td>0.228630</td>\n",
              "    </tr>\n",
              "    <tr>\n",
              "      <th>row4</th>\n",
              "      <td>0.445138</td>\n",
              "      <td>-1.136602</td>\n",
              "      <td>0.135137</td>\n",
              "      <td>1.484537</td>\n",
              "      <td>-1.079805</td>\n",
              "    </tr>\n",
              "    <tr>\n",
              "      <th>row5</th>\n",
              "      <td>-1.977728</td>\n",
              "      <td>-1.743372</td>\n",
              "      <td>0.266070</td>\n",
              "      <td>2.384967</td>\n",
              "      <td>1.123691</td>\n",
              "    </tr>\n",
              "  </tbody>\n",
              "</table>\n",
              "</div>"
            ],
            "text/plain": [
              "          col1      col2      col3      col4      col5\n",
              "row1  1.331587  0.715279 -1.545400 -0.008384  0.621336\n",
              "row2 -0.720086  0.265512  0.108549  0.004291 -0.174600\n",
              "row3  0.433026  1.203037 -0.965066  1.028274  0.228630\n",
              "row4  0.445138 -1.136602  0.135137  1.484537 -1.079805\n",
              "row5 -1.977728 -1.743372  0.266070  2.384967  1.123691"
            ]
          },
          "metadata": {
            "tags": []
          },
          "execution_count": 14
        }
      ]
    },
    {
      "cell_type": "code",
      "metadata": {
        "colab": {
          "base_uri": "https://localhost:8080/",
          "height": 198
        },
        "id": "b5TFviC1Li_e",
        "outputId": "b9591f24-d78b-4245-8d21-ecee273726b0"
      },
      "source": [
        "df2"
      ],
      "execution_count": 15,
      "outputs": [
        {
          "output_type": "execute_result",
          "data": {
            "text/html": [
              "<div>\n",
              "<style scoped>\n",
              "    .dataframe tbody tr th:only-of-type {\n",
              "        vertical-align: middle;\n",
              "    }\n",
              "\n",
              "    .dataframe tbody tr th {\n",
              "        vertical-align: top;\n",
              "    }\n",
              "\n",
              "    .dataframe thead th {\n",
              "        text-align: right;\n",
              "    }\n",
              "</style>\n",
              "<table border=\"1\" class=\"dataframe\">\n",
              "  <thead>\n",
              "    <tr style=\"text-align: right;\">\n",
              "      <th></th>\n",
              "      <th>col1</th>\n",
              "      <th>col2</th>\n",
              "      <th>col3</th>\n",
              "      <th>col4</th>\n",
              "      <th>col5</th>\n",
              "      <th>new</th>\n",
              "    </tr>\n",
              "  </thead>\n",
              "  <tbody>\n",
              "    <tr>\n",
              "      <th>row1</th>\n",
              "      <td>1.331587</td>\n",
              "      <td>0.715279</td>\n",
              "      <td>-1.545400</td>\n",
              "      <td>-0.008384</td>\n",
              "      <td>0.621336</td>\n",
              "      <td>2.046865</td>\n",
              "    </tr>\n",
              "    <tr>\n",
              "      <th>row2</th>\n",
              "      <td>-0.720086</td>\n",
              "      <td>0.265512</td>\n",
              "      <td>0.108549</td>\n",
              "      <td>0.004291</td>\n",
              "      <td>-0.174600</td>\n",
              "      <td>-0.454574</td>\n",
              "    </tr>\n",
              "    <tr>\n",
              "      <th>row3</th>\n",
              "      <td>0.433026</td>\n",
              "      <td>1.203037</td>\n",
              "      <td>-0.965066</td>\n",
              "      <td>1.028274</td>\n",
              "      <td>0.228630</td>\n",
              "      <td>1.636064</td>\n",
              "    </tr>\n",
              "    <tr>\n",
              "      <th>row4</th>\n",
              "      <td>0.445138</td>\n",
              "      <td>-1.136602</td>\n",
              "      <td>0.135137</td>\n",
              "      <td>1.484537</td>\n",
              "      <td>-1.079805</td>\n",
              "      <td>-0.691465</td>\n",
              "    </tr>\n",
              "    <tr>\n",
              "      <th>row5</th>\n",
              "      <td>-1.977728</td>\n",
              "      <td>-1.743372</td>\n",
              "      <td>0.266070</td>\n",
              "      <td>2.384967</td>\n",
              "      <td>1.123691</td>\n",
              "      <td>-3.721101</td>\n",
              "    </tr>\n",
              "  </tbody>\n",
              "</table>\n",
              "</div>"
            ],
            "text/plain": [
              "          col1      col2      col3      col4      col5       new\n",
              "row1  1.331587  0.715279 -1.545400 -0.008384  0.621336  2.046865\n",
              "row2 -0.720086  0.265512  0.108549  0.004291 -0.174600 -0.454574\n",
              "row3  0.433026  1.203037 -0.965066  1.028274  0.228630  1.636064\n",
              "row4  0.445138 -1.136602  0.135137  1.484537 -1.079805 -0.691465\n",
              "row5 -1.977728 -1.743372  0.266070  2.384967  1.123691 -3.721101"
            ]
          },
          "metadata": {
            "tags": []
          },
          "execution_count": 15
        }
      ]
    },
    {
      "cell_type": "code",
      "metadata": {
        "id": "PjZOXGF4Lp1v"
      },
      "source": [
        "df2.drop('col1' , axis=1 , inplace=True)"
      ],
      "execution_count": 16,
      "outputs": []
    },
    {
      "cell_type": "code",
      "metadata": {
        "colab": {
          "base_uri": "https://localhost:8080/",
          "height": 198
        },
        "id": "8NCtb9kHLuvs",
        "outputId": "b4bdb21e-a0cf-48a0-e329-fbc9bf035c48"
      },
      "source": [
        "df2"
      ],
      "execution_count": 17,
      "outputs": [
        {
          "output_type": "execute_result",
          "data": {
            "text/html": [
              "<div>\n",
              "<style scoped>\n",
              "    .dataframe tbody tr th:only-of-type {\n",
              "        vertical-align: middle;\n",
              "    }\n",
              "\n",
              "    .dataframe tbody tr th {\n",
              "        vertical-align: top;\n",
              "    }\n",
              "\n",
              "    .dataframe thead th {\n",
              "        text-align: right;\n",
              "    }\n",
              "</style>\n",
              "<table border=\"1\" class=\"dataframe\">\n",
              "  <thead>\n",
              "    <tr style=\"text-align: right;\">\n",
              "      <th></th>\n",
              "      <th>col2</th>\n",
              "      <th>col3</th>\n",
              "      <th>col4</th>\n",
              "      <th>col5</th>\n",
              "      <th>new</th>\n",
              "    </tr>\n",
              "  </thead>\n",
              "  <tbody>\n",
              "    <tr>\n",
              "      <th>row1</th>\n",
              "      <td>0.715279</td>\n",
              "      <td>-1.545400</td>\n",
              "      <td>-0.008384</td>\n",
              "      <td>0.621336</td>\n",
              "      <td>2.046865</td>\n",
              "    </tr>\n",
              "    <tr>\n",
              "      <th>row2</th>\n",
              "      <td>0.265512</td>\n",
              "      <td>0.108549</td>\n",
              "      <td>0.004291</td>\n",
              "      <td>-0.174600</td>\n",
              "      <td>-0.454574</td>\n",
              "    </tr>\n",
              "    <tr>\n",
              "      <th>row3</th>\n",
              "      <td>1.203037</td>\n",
              "      <td>-0.965066</td>\n",
              "      <td>1.028274</td>\n",
              "      <td>0.228630</td>\n",
              "      <td>1.636064</td>\n",
              "    </tr>\n",
              "    <tr>\n",
              "      <th>row4</th>\n",
              "      <td>-1.136602</td>\n",
              "      <td>0.135137</td>\n",
              "      <td>1.484537</td>\n",
              "      <td>-1.079805</td>\n",
              "      <td>-0.691465</td>\n",
              "    </tr>\n",
              "    <tr>\n",
              "      <th>row5</th>\n",
              "      <td>-1.743372</td>\n",
              "      <td>0.266070</td>\n",
              "      <td>2.384967</td>\n",
              "      <td>1.123691</td>\n",
              "      <td>-3.721101</td>\n",
              "    </tr>\n",
              "  </tbody>\n",
              "</table>\n",
              "</div>"
            ],
            "text/plain": [
              "          col2      col3      col4      col5       new\n",
              "row1  0.715279 -1.545400 -0.008384  0.621336  2.046865\n",
              "row2  0.265512  0.108549  0.004291 -0.174600 -0.454574\n",
              "row3  1.203037 -0.965066  1.028274  0.228630  1.636064\n",
              "row4 -1.136602  0.135137  1.484537 -1.079805 -0.691465\n",
              "row5 -1.743372  0.266070  2.384967  1.123691 -3.721101"
            ]
          },
          "metadata": {
            "tags": []
          },
          "execution_count": 17
        }
      ]
    },
    {
      "cell_type": "markdown",
      "metadata": {
        "id": "OmNiioiNMORL"
      },
      "source": [
        "**Removing rows**"
      ]
    },
    {
      "cell_type": "code",
      "metadata": {
        "colab": {
          "base_uri": "https://localhost:8080/",
          "height": 168
        },
        "id": "XVk7MrY2MRt3",
        "outputId": "42915ea5-e212-4e4d-bdee-524613dfb360"
      },
      "source": [
        "df2.drop('row1' , axis=0 , inplace=True)\r\n",
        "df2"
      ],
      "execution_count": 18,
      "outputs": [
        {
          "output_type": "execute_result",
          "data": {
            "text/html": [
              "<div>\n",
              "<style scoped>\n",
              "    .dataframe tbody tr th:only-of-type {\n",
              "        vertical-align: middle;\n",
              "    }\n",
              "\n",
              "    .dataframe tbody tr th {\n",
              "        vertical-align: top;\n",
              "    }\n",
              "\n",
              "    .dataframe thead th {\n",
              "        text-align: right;\n",
              "    }\n",
              "</style>\n",
              "<table border=\"1\" class=\"dataframe\">\n",
              "  <thead>\n",
              "    <tr style=\"text-align: right;\">\n",
              "      <th></th>\n",
              "      <th>col2</th>\n",
              "      <th>col3</th>\n",
              "      <th>col4</th>\n",
              "      <th>col5</th>\n",
              "      <th>new</th>\n",
              "    </tr>\n",
              "  </thead>\n",
              "  <tbody>\n",
              "    <tr>\n",
              "      <th>row2</th>\n",
              "      <td>0.265512</td>\n",
              "      <td>0.108549</td>\n",
              "      <td>0.004291</td>\n",
              "      <td>-0.174600</td>\n",
              "      <td>-0.454574</td>\n",
              "    </tr>\n",
              "    <tr>\n",
              "      <th>row3</th>\n",
              "      <td>1.203037</td>\n",
              "      <td>-0.965066</td>\n",
              "      <td>1.028274</td>\n",
              "      <td>0.228630</td>\n",
              "      <td>1.636064</td>\n",
              "    </tr>\n",
              "    <tr>\n",
              "      <th>row4</th>\n",
              "      <td>-1.136602</td>\n",
              "      <td>0.135137</td>\n",
              "      <td>1.484537</td>\n",
              "      <td>-1.079805</td>\n",
              "      <td>-0.691465</td>\n",
              "    </tr>\n",
              "    <tr>\n",
              "      <th>row5</th>\n",
              "      <td>-1.743372</td>\n",
              "      <td>0.266070</td>\n",
              "      <td>2.384967</td>\n",
              "      <td>1.123691</td>\n",
              "      <td>-3.721101</td>\n",
              "    </tr>\n",
              "  </tbody>\n",
              "</table>\n",
              "</div>"
            ],
            "text/plain": [
              "          col2      col3      col4      col5       new\n",
              "row2  0.265512  0.108549  0.004291 -0.174600 -0.454574\n",
              "row3  1.203037 -0.965066  1.028274  0.228630  1.636064\n",
              "row4 -1.136602  0.135137  1.484537 -1.079805 -0.691465\n",
              "row5 -1.743372  0.266070  2.384967  1.123691 -3.721101"
            ]
          },
          "metadata": {
            "tags": []
          },
          "execution_count": 18
        }
      ]
    },
    {
      "cell_type": "markdown",
      "metadata": {
        "id": "AkGqUDaUM6Xq"
      },
      "source": [
        "**Selecting Rows & Columns**"
      ]
    },
    {
      "cell_type": "code",
      "metadata": {
        "colab": {
          "base_uri": "https://localhost:8080/"
        },
        "id": "RD-fNDatNQxm",
        "outputId": "f03eab1d-38f4-4f3d-a490-561e0c4fa970"
      },
      "source": [
        "df2.loc['row2']"
      ],
      "execution_count": 19,
      "outputs": [
        {
          "output_type": "execute_result",
          "data": {
            "text/plain": [
              "col2    0.265512\n",
              "col3    0.108549\n",
              "col4    0.004291\n",
              "col5   -0.174600\n",
              "new    -0.454574\n",
              "Name: row2, dtype: float64"
            ]
          },
          "metadata": {
            "tags": []
          },
          "execution_count": 19
        }
      ]
    },
    {
      "cell_type": "code",
      "metadata": {
        "colab": {
          "base_uri": "https://localhost:8080/"
        },
        "id": "1He5Gk1uNlwC",
        "outputId": "28373495-2450-42fe-a685-d3d905636e6b"
      },
      "source": [
        "df2.loc[: , 'col2']"
      ],
      "execution_count": 22,
      "outputs": [
        {
          "output_type": "execute_result",
          "data": {
            "text/plain": [
              "row2    0.265512\n",
              "row3    1.203037\n",
              "row4   -1.136602\n",
              "row5   -1.743372\n",
              "Name: col2, dtype: float64"
            ]
          },
          "metadata": {
            "tags": []
          },
          "execution_count": 22
        }
      ]
    },
    {
      "cell_type": "code",
      "metadata": {
        "colab": {
          "base_uri": "https://localhost:8080/"
        },
        "id": "UuxEwwflNvAm",
        "outputId": "650d17cf-bb2a-485a-9c1c-79b930907c61"
      },
      "source": [
        "df2.iloc[1]"
      ],
      "execution_count": 23,
      "outputs": [
        {
          "output_type": "execute_result",
          "data": {
            "text/plain": [
              "col2    1.203037\n",
              "col3   -0.965066\n",
              "col4    1.028274\n",
              "col5    0.228630\n",
              "new     1.636064\n",
              "Name: row3, dtype: float64"
            ]
          },
          "metadata": {
            "tags": []
          },
          "execution_count": 23
        }
      ]
    },
    {
      "cell_type": "code",
      "metadata": {
        "colab": {
          "base_uri": "https://localhost:8080/"
        },
        "id": "hJn-XfCGN3mD",
        "outputId": "ed66e64b-b41c-46c1-b65f-6f5073d12044"
      },
      "source": [
        "df2.iloc[: , 1]"
      ],
      "execution_count": 25,
      "outputs": [
        {
          "output_type": "execute_result",
          "data": {
            "text/plain": [
              "row2    0.108549\n",
              "row3   -0.965066\n",
              "row4    0.135137\n",
              "row5    0.266070\n",
              "Name: col3, dtype: float64"
            ]
          },
          "metadata": {
            "tags": []
          },
          "execution_count": 25
        }
      ]
    },
    {
      "cell_type": "code",
      "metadata": {
        "colab": {
          "base_uri": "https://localhost:8080/",
          "height": 168
        },
        "id": "QDb3g_2bNyTP",
        "outputId": "c9b13c42-5437-4697-9513-8868a37c6d7f"
      },
      "source": [
        "df2"
      ],
      "execution_count": 24,
      "outputs": [
        {
          "output_type": "execute_result",
          "data": {
            "text/html": [
              "<div>\n",
              "<style scoped>\n",
              "    .dataframe tbody tr th:only-of-type {\n",
              "        vertical-align: middle;\n",
              "    }\n",
              "\n",
              "    .dataframe tbody tr th {\n",
              "        vertical-align: top;\n",
              "    }\n",
              "\n",
              "    .dataframe thead th {\n",
              "        text-align: right;\n",
              "    }\n",
              "</style>\n",
              "<table border=\"1\" class=\"dataframe\">\n",
              "  <thead>\n",
              "    <tr style=\"text-align: right;\">\n",
              "      <th></th>\n",
              "      <th>col2</th>\n",
              "      <th>col3</th>\n",
              "      <th>col4</th>\n",
              "      <th>col5</th>\n",
              "      <th>new</th>\n",
              "    </tr>\n",
              "  </thead>\n",
              "  <tbody>\n",
              "    <tr>\n",
              "      <th>row2</th>\n",
              "      <td>0.265512</td>\n",
              "      <td>0.108549</td>\n",
              "      <td>0.004291</td>\n",
              "      <td>-0.174600</td>\n",
              "      <td>-0.454574</td>\n",
              "    </tr>\n",
              "    <tr>\n",
              "      <th>row3</th>\n",
              "      <td>1.203037</td>\n",
              "      <td>-0.965066</td>\n",
              "      <td>1.028274</td>\n",
              "      <td>0.228630</td>\n",
              "      <td>1.636064</td>\n",
              "    </tr>\n",
              "    <tr>\n",
              "      <th>row4</th>\n",
              "      <td>-1.136602</td>\n",
              "      <td>0.135137</td>\n",
              "      <td>1.484537</td>\n",
              "      <td>-1.079805</td>\n",
              "      <td>-0.691465</td>\n",
              "    </tr>\n",
              "    <tr>\n",
              "      <th>row5</th>\n",
              "      <td>-1.743372</td>\n",
              "      <td>0.266070</td>\n",
              "      <td>2.384967</td>\n",
              "      <td>1.123691</td>\n",
              "      <td>-3.721101</td>\n",
              "    </tr>\n",
              "  </tbody>\n",
              "</table>\n",
              "</div>"
            ],
            "text/plain": [
              "          col2      col3      col4      col5       new\n",
              "row2  0.265512  0.108549  0.004291 -0.174600 -0.454574\n",
              "row3  1.203037 -0.965066  1.028274  0.228630  1.636064\n",
              "row4 -1.136602  0.135137  1.484537 -1.079805 -0.691465\n",
              "row5 -1.743372  0.266070  2.384967  1.123691 -3.721101"
            ]
          },
          "metadata": {
            "tags": []
          },
          "execution_count": 24
        }
      ]
    },
    {
      "cell_type": "code",
      "metadata": {
        "colab": {
          "base_uri": "https://localhost:8080/",
          "height": 168
        },
        "id": "Xl5T6WfwN-LX",
        "outputId": "06b94e6b-9957-456e-cc12-bb7362d25b0e"
      },
      "source": [
        "df2.iloc[: , 1:]"
      ],
      "execution_count": 26,
      "outputs": [
        {
          "output_type": "execute_result",
          "data": {
            "text/html": [
              "<div>\n",
              "<style scoped>\n",
              "    .dataframe tbody tr th:only-of-type {\n",
              "        vertical-align: middle;\n",
              "    }\n",
              "\n",
              "    .dataframe tbody tr th {\n",
              "        vertical-align: top;\n",
              "    }\n",
              "\n",
              "    .dataframe thead th {\n",
              "        text-align: right;\n",
              "    }\n",
              "</style>\n",
              "<table border=\"1\" class=\"dataframe\">\n",
              "  <thead>\n",
              "    <tr style=\"text-align: right;\">\n",
              "      <th></th>\n",
              "      <th>col3</th>\n",
              "      <th>col4</th>\n",
              "      <th>col5</th>\n",
              "      <th>new</th>\n",
              "    </tr>\n",
              "  </thead>\n",
              "  <tbody>\n",
              "    <tr>\n",
              "      <th>row2</th>\n",
              "      <td>0.108549</td>\n",
              "      <td>0.004291</td>\n",
              "      <td>-0.174600</td>\n",
              "      <td>-0.454574</td>\n",
              "    </tr>\n",
              "    <tr>\n",
              "      <th>row3</th>\n",
              "      <td>-0.965066</td>\n",
              "      <td>1.028274</td>\n",
              "      <td>0.228630</td>\n",
              "      <td>1.636064</td>\n",
              "    </tr>\n",
              "    <tr>\n",
              "      <th>row4</th>\n",
              "      <td>0.135137</td>\n",
              "      <td>1.484537</td>\n",
              "      <td>-1.079805</td>\n",
              "      <td>-0.691465</td>\n",
              "    </tr>\n",
              "    <tr>\n",
              "      <th>row5</th>\n",
              "      <td>0.266070</td>\n",
              "      <td>2.384967</td>\n",
              "      <td>1.123691</td>\n",
              "      <td>-3.721101</td>\n",
              "    </tr>\n",
              "  </tbody>\n",
              "</table>\n",
              "</div>"
            ],
            "text/plain": [
              "          col3      col4      col5       new\n",
              "row2  0.108549  0.004291 -0.174600 -0.454574\n",
              "row3 -0.965066  1.028274  0.228630  1.636064\n",
              "row4  0.135137  1.484537 -1.079805 -0.691465\n",
              "row5  0.266070  2.384967  1.123691 -3.721101"
            ]
          },
          "metadata": {
            "tags": []
          },
          "execution_count": 26
        }
      ]
    },
    {
      "cell_type": "code",
      "metadata": {
        "colab": {
          "base_uri": "https://localhost:8080/",
          "height": 168
        },
        "id": "PeNevCiqOEwA",
        "outputId": "b3da2054-bedc-4bf6-a4d4-f289748a4c69"
      },
      "source": [
        "df2.loc[: , ['col3' , 'col4']]"
      ],
      "execution_count": 27,
      "outputs": [
        {
          "output_type": "execute_result",
          "data": {
            "text/html": [
              "<div>\n",
              "<style scoped>\n",
              "    .dataframe tbody tr th:only-of-type {\n",
              "        vertical-align: middle;\n",
              "    }\n",
              "\n",
              "    .dataframe tbody tr th {\n",
              "        vertical-align: top;\n",
              "    }\n",
              "\n",
              "    .dataframe thead th {\n",
              "        text-align: right;\n",
              "    }\n",
              "</style>\n",
              "<table border=\"1\" class=\"dataframe\">\n",
              "  <thead>\n",
              "    <tr style=\"text-align: right;\">\n",
              "      <th></th>\n",
              "      <th>col3</th>\n",
              "      <th>col4</th>\n",
              "    </tr>\n",
              "  </thead>\n",
              "  <tbody>\n",
              "    <tr>\n",
              "      <th>row2</th>\n",
              "      <td>0.108549</td>\n",
              "      <td>0.004291</td>\n",
              "    </tr>\n",
              "    <tr>\n",
              "      <th>row3</th>\n",
              "      <td>-0.965066</td>\n",
              "      <td>1.028274</td>\n",
              "    </tr>\n",
              "    <tr>\n",
              "      <th>row4</th>\n",
              "      <td>0.135137</td>\n",
              "      <td>1.484537</td>\n",
              "    </tr>\n",
              "    <tr>\n",
              "      <th>row5</th>\n",
              "      <td>0.266070</td>\n",
              "      <td>2.384967</td>\n",
              "    </tr>\n",
              "  </tbody>\n",
              "</table>\n",
              "</div>"
            ],
            "text/plain": [
              "          col3      col4\n",
              "row2  0.108549  0.004291\n",
              "row3 -0.965066  1.028274\n",
              "row4  0.135137  1.484537\n",
              "row5  0.266070  2.384967"
            ]
          },
          "metadata": {
            "tags": []
          },
          "execution_count": 27
        }
      ]
    },
    {
      "cell_type": "markdown",
      "metadata": {
        "id": "s3KKBriqOZNR"
      },
      "source": [
        "**Thank You!!**"
      ]
    }
  ]
}